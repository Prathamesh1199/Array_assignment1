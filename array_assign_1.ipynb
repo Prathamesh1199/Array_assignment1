{
  "metadata": {
    "language_info": {
      "codemirror_mode": {
        "name": "python",
        "version": 3
      },
      "file_extension": ".py",
      "mimetype": "text/x-python",
      "name": "python",
      "nbconvert_exporter": "python",
      "pygments_lexer": "ipython3",
      "version": "3.8"
    },
    "kernelspec": {
      "name": "python",
      "display_name": "Python (Pyodide)",
      "language": "python"
    }
  },
  "nbformat_minor": 4,
  "nbformat": 4,
  "cells": [
    {
      "cell_type": "code",
      "source": "1:\n  To find the indices of the two numbers in the given array that add up to the target , \nwe can use a two-pointer approach. Heres the solution in python:",
      "metadata": {},
      "execution_count": null,
      "outputs": []
    },
    {
      "cell_type": "code",
      "source": "def twoSum(nums, target):\n    # Create a dictionary to store the complement of each number\n    complement_dict = {}\n\n    # Iterate through the array\n    for i, num in enumerate(nums):\n        # Check if the complement exists in the dictionary\n        if num in complement_dict:\n            # Return the indices of the current number and its complement\n            return [complement_dict[num], i]\n        else:\n            # Add the complement of the current number to the dictionary\n            complement_dict[target - num] = i\n\n    # If no solution is found, return an empty list\n    return []\n\n# Test the function\nnums = [2, 7, 11, 15]\ntarget = 9\nresult = twoSum(nums, target)\nprint(result)\n",
      "metadata": {
        "trusted": true
      },
      "execution_count": 1,
      "outputs": [
        {
          "name": "stdout",
          "text": "[0, 1]\n",
          "output_type": "stream"
        }
      ]
    },
    {
      "cell_type": "code",
      "source": "",
      "metadata": {},
      "execution_count": null,
      "outputs": []
    },
    {
      "cell_type": "code",
      "source": "2:\n   To solve the problem we can use a  two-pointer approach to remove all occurrences\nof the given value in-place . heres the solution in python: ",
      "metadata": {},
      "execution_count": null,
      "outputs": []
    },
    {
      "cell_type": "code",
      "source": "def removeElement(nums, val):\n    k = 0  # Variable to track the count of elements not equal to val\n    \n    # Iterate through the array\n    for i in range(len(nums)):\n        # If the current element is not equal to val, update the array\n        if nums[i] != val:\n            nums[k] = nums[i]\n            k += 1\n\n    return k\n\n# Test the function\nnums = [3, 2, 2, 3]\nval = 3\nresult = removeElement(nums, val)\nprint(\"Output:\", result)\nprint(\"nums:\", nums[:result], end='')\nif result > 0:\n    print(\" + _*\")\n",
      "metadata": {
        "trusted": true
      },
      "execution_count": 2,
      "outputs": [
        {
          "name": "stdout",
          "text": "Output: 2\nnums: [2, 2] + _*\n",
          "output_type": "stream"
        }
      ]
    },
    {
      "cell_type": "code",
      "source": "In this solution i use two pointers \"i\" to iterate through the array and k to track the count\nof elements not equal to val.\nI check each element and if it is not equal to val, I update the array by assigning it to the position\nindicated by k. We increment k each time we encounter an element not equal to val. Finally, I return k, \nwhich represents the count of elements not equal to val.\n\n",
      "metadata": {},
      "execution_count": null,
      "outputs": []
    },
    {
      "cell_type": "code",
      "source": "",
      "metadata": {},
      "execution_count": null,
      "outputs": []
    },
    {
      "cell_type": "code",
      "source": "3:\n To find the index where the target value would be inserted in a sorted array of distinct \nintegers, we can use a binary search algorithm. Here's the solution in Python   ",
      "metadata": {},
      "execution_count": null,
      "outputs": []
    },
    {
      "cell_type": "code",
      "source": "def searchInsert(nums, target):\n    left = 0\n    right = len(nums) - 1\n\n    while left <= right:\n        mid = (left + right) // 2\n\n        if nums[mid] == target:\n            return mid\n        elif nums[mid] < target:\n            left = mid + 1\n        else:\n            right = mid - 1\n\n    return left\n\n# Test the function\nnums = [1, 3, 5, 6]\ntarget = 5\nresult = searchInsert(nums, target)\nprint(\"Output:\", result)\n",
      "metadata": {
        "trusted": true
      },
      "execution_count": 3,
      "outputs": [
        {
          "name": "stdout",
          "text": "Output: 2\n",
          "output_type": "stream"
        }
      ]
    },
    {
      "cell_type": "code",
      "source": "",
      "metadata": {},
      "execution_count": null,
      "outputs": []
    },
    {
      "cell_type": "code",
      "source": "4:\n   To increment a large integer represented as an integer array by one, we can start from \nthe least significant digit (the rightmost digit) and increment it by one. If the result is\nless than 10, we return the updated array. Otherwise, we propagate the carry to the next digit\nand continue the process until all digits have been processed. If there is a carry after processing\nall the digits, we add an additional digit at the beginning of the array. ",
      "metadata": {},
      "execution_count": null,
      "outputs": []
    },
    {
      "cell_type": "code",
      "source": "def plusOne(digits):\n    n = len(digits)\n\n    # Start from the least significant digit\n    for i in range(n - 1, -1, -1):\n        # Increment the current digit by one\n        digits[i] += 1\n\n        # Check if there is a carry\n        if digits[i] < 10:\n            return digits\n        else:\n            digits[i] = 0\n\n    # If there is still a carry after processing all digits, add an additional digit\n    return [1] + digits\n\n# Test the function\ndigits = [1, 2, 3]\nresult = plusOne(digits)\nprint(\"Output:\", result)\n",
      "metadata": {
        "trusted": true
      },
      "execution_count": 4,
      "outputs": [
        {
          "name": "stdout",
          "text": "Output: [1, 2, 4]\n",
          "output_type": "stream"
        }
      ]
    },
    {
      "cell_type": "code",
      "source": "In this solution, I start from the least significant digit and increment it by one.\nIf the incremented digit is less than 10, we return the updated array. Otherwise, we \nset the digit to 0 and continue the process with the next digit. After processing all\nthe digits, if there is still a carry, we add an additional digit with a value of 1 at\nthe beginning of the array. Finally, we return the resulting array.\n",
      "metadata": {},
      "execution_count": null,
      "outputs": []
    },
    {
      "cell_type": "code",
      "source": "",
      "metadata": {},
      "execution_count": null,
      "outputs": []
    },
    {
      "cell_type": "code",
      "source": "5:\n To merge two sorted arrays nums1 and nums2 into nums1 itself, we can start from the end\nof the merged array and compare the elements from nums1 and nums2. We place the larger \nelement at the end of nums1 and move the corresponding pointer accordingly. This approach\navoids overwriting any elements that haven't been merged yet.   ",
      "metadata": {},
      "execution_count": null,
      "outputs": []
    },
    {
      "cell_type": "code",
      "source": "def merge(nums1, m, nums2, n):\n    i = m - 1\n    j = n - 1\n    k = m + n - 1\n\n    while i >= 0 and j >= 0:\n        if nums1[i] >= nums2[j]:\n            nums1[k] = nums1[i]\n            i -= 1\n        else:\n            nums1[k] = nums2[j]\n            j -= 1\n        k -= 1\n\n    while j >= 0:\n        nums1[k] = nums2[j]\n        j -= 1\n        k -= 1\n\n# Test the function\nnums1 = [1, 2, 3, 0, 0, 0]\nm = 3\nnums2 = [2, 5, 6]\nn = 3\nmerge(nums1, m, nums2, n)\nprint(\"Output:\", nums1)\n",
      "metadata": {
        "trusted": true
      },
      "execution_count": 5,
      "outputs": [
        {
          "name": "stdout",
          "text": "Output: [1, 2, 2, 3, 5, 6]\n",
          "output_type": "stream"
        }
      ]
    },
    {
      "cell_type": "code",
      "source": "",
      "metadata": {},
      "execution_count": null,
      "outputs": []
    },
    {
      "cell_type": "code",
      "source": "6:\n   To determine if any value appears at least twice in an integer array nums, we can use\na set data structure to keep track of the unique elements we have encountered so far. As we\niterate through the array, if we find an element that is already in the set, it means it has\nappeared at least twice, and we can return True. If we reach the end of the array without finding\nany duplicates, we return False ",
      "metadata": {},
      "execution_count": null,
      "outputs": []
    },
    {
      "cell_type": "code",
      "source": "def containsDuplicate(nums):\n    seen = set()\n\n    for num in nums:\n        if num in seen:\n            return True\n        seen.add(num)\n\n    return False\n\n# Test the function\nnums = [1, 2, 3, 1]\nresult = containsDuplicate(nums)\nprint(\"Output:\", result)\n",
      "metadata": {
        "trusted": true
      },
      "execution_count": 6,
      "outputs": [
        {
          "name": "stdout",
          "text": "Output: True\n",
          "output_type": "stream"
        }
      ]
    },
    {
      "cell_type": "code",
      "source": "",
      "metadata": {},
      "execution_count": null,
      "outputs": []
    },
    {
      "cell_type": "code",
      "source": "7:\n  To move all zeros to the end of an integer array nums while maintaining the relative order\nof the nonzero elements, we can use a two-pointer approach. We initialize two pointers, left and right,\nboth starting at index 0.\n\nWe iterate through the array with the right pointer, and whenever we encounter a nonzero element, we swap it\nwith the element at the left pointer position and increment both pointers. This ensures that all the nonzero \nelements are moved towards the left side of the array while maintaining their relative order.\n\nAfter the iteration, all the nonzero elements will be placed towards the beginning of the array, and the remaining\nelements towards the end of the array will be zeros.  ",
      "metadata": {},
      "execution_count": null,
      "outputs": []
    },
    {
      "cell_type": "code",
      "source": "def moveZeroes(nums):\n    left = 0\n    right = 0\n\n    while right < len(nums):\n        if nums[right] != 0:\n            nums[left], nums[right] = nums[right], nums[left]\n            left += 1\n        right += 1\n\n# Test the function\nnums = [0, 1, 0, 3, 12]\nmoveZeroes(nums)\nprint(\"Output:\", nums)\n",
      "metadata": {
        "trusted": true
      },
      "execution_count": 7,
      "outputs": [
        {
          "name": "stdout",
          "text": "Output: [1, 3, 12, 0, 0]\n",
          "output_type": "stream"
        }
      ]
    },
    {
      "cell_type": "code",
      "source": "",
      "metadata": {},
      "execution_count": null,
      "outputs": []
    },
    {
      "cell_type": "code",
      "source": "8:\nTo find the number that occurs twice and the number that is missing in an integer array nums, we can utilize the properties of sets and arithmetic sums.\n\n1.Create a set called numSet and initialize it with all the numbers from 1 to n, where n is the length of nums.\n2.Initialize variables duplicate and missing as 0.\n3.Iterate through each element num in nums.\n.If num is already in numSet, it means it is the duplicate. Set duplicate to num.\n.Add num to numSet.\n4.Iterate through numbers from 1 to n.\n.If a number i is not in numSet, it means it is the missing number. Set missing to i.\n5.Return [duplicate, missing].    ",
      "metadata": {},
      "execution_count": null,
      "outputs": []
    },
    {
      "cell_type": "code",
      "source": "def findErrorNums(nums):\n    n = len(nums)\n    numSet = set()\n    duplicate = 0\n    missing = 0\n\n    for num in nums:\n        if num in numSet:\n            duplicate = num\n        numSet.add(num)\n\n    for i in range(1, n + 1):\n        if i not in numSet:\n            missing = i\n\n    return [duplicate, missing]\n\n# Test the function\nnums = [1, 2, 2, 4]\nresult = findErrorNums(nums)\nprint(\"Output:\", result)\n",
      "metadata": {
        "trusted": true
      },
      "execution_count": 8,
      "outputs": [
        {
          "name": "stdout",
          "text": "Output: [2, 3]\n",
          "output_type": "stream"
        }
      ]
    },
    {
      "cell_type": "code",
      "source": "",
      "metadata": {},
      "execution_count": null,
      "outputs": []
    },
    {
      "cell_type": "code",
      "source": "",
      "metadata": {},
      "execution_count": null,
      "outputs": []
    }
  ]
}